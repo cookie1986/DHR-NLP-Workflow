{
 "cells": [
  {
   "cell_type": "markdown",
   "metadata": {},
   "source": [
    "# Meta Data Extraction\n",
    "## Commissioning Body and Regional Information from the document body and Regex\n"
   ]
  },
  {
   "cell_type": "code",
   "execution_count": 1,
   "metadata": {},
   "outputs": [],
   "source": [
    "from pathlib import Path\n",
    "import json\n",
    "import os\n",
    "\n",
    "# Set paths\n",
    "ROOT = Path().resolve().parent\n",
    "PDFS = ROOT / 'data/pdfs'\n",
    "REFERENCE_DATA = ROOT / 'data/reference'"
   ]
  },
  {
   "cell_type": "code",
   "execution_count": 2,
   "metadata": {},
   "outputs": [],
   "source": [
    "# Load reference dictionaries\n",
    "with open(REFERENCE_DATA / 'commissioning_bodies.json','r') as f:\n",
    "    cb_refs = json.load(f)\n",
    "\n",
    "# Extract commissioning bodies as list\n",
    "cb_list = cb_refs['commissioning_body']"
   ]
  },
  {
   "cell_type": "code",
   "execution_count": 3,
   "metadata": {},
   "outputs": [
    {
     "name": "stdout",
     "output_type": "stream",
     "text": [
      "207\n"
     ]
    }
   ],
   "source": [
    "import fitz\n",
    "import re\n",
    "import pandas as pd\n",
    "\n",
    "commissioning_bodies = {}\n",
    "\n",
    "# Check if commissioning body appears in a portion of text\n",
    "def cb_in_text(text: str, cb_list: list):\n",
    "    for body in cb_list:\n",
    "        if body in text:\n",
    "            return body\n",
    "    return None\n",
    "\n",
    "# Check for the phrase 'commissioned by' in the body text\n",
    "def check_commissioned_by_bool(text: str):\n",
    "    pattern = r'commissioned by'\n",
    "    try:\n",
    "        findmatch = re.findall(pattern, text)\n",
    "        if findmatch:\n",
    "            return True\n",
    "    except:\n",
    "        return False\n",
    "    return False\n",
    "\n",
    "\n",
    "for pdf in os.listdir(PDFS):\n",
    "    pdf_path = PDFS / pdf\n",
    "# for pdf in range(1):  # For testing with a single PDF\n",
    "#     pdf_path = PDFS / '68541cfed3fa824998561bf4.pdf'\n",
    "    if not pdf_path.suffix == \".pdf\":\n",
    "        continue\n",
    "    doc = fitz.open(pdf_path)\n",
    "\n",
    "    # Flag to indicate if commissioning body is found\n",
    "    cb_found = False\n",
    "\n",
    "    for page in range(doc.page_count):\n",
    "        # Load the page\n",
    "        current_page = doc.load_page(page)\n",
    "\n",
    "        # Get the list of text blocks\n",
    "        blocks= current_page.get_text(\"blocks\")\n",
    "\n",
    "        # Flag to indicate if the phrase \"commissioned by\" is found\n",
    "        cb_regex_found = False\n",
    "\n",
    "        # Search through each block for cb phrase\n",
    "        for block in blocks:\n",
    "            text = block[4] if len(block) > 4 else \"\"\n",
    "            if not text:\n",
    "                continue\n",
    "            if check_commissioned_by_bool(text):\n",
    "                cb = cb_in_text(text, cb_list)\n",
    "                if cb:\n",
    "                    commissioning_bodies[pdf_path.name] = {'commissioning_body': cb}\n",
    "                    cb_regex_found = True\n",
    "                    break # Stops scanning more blocks\n",
    "        if cb_regex_found:\n",
    "            break # Stops scanning more pages\n",
    "\n",
    "    doc.close()\n",
    "\n",
    "print(len(commissioning_bodies))\n",
    "# Save results to JSON file\n",
    "cb_df = pd.DataFrame.from_dict(commissioning_bodies, orient='index').reset_index().rename(columns={'index': 'filename'})\n",
    "cb_df.to_csv(ROOT / 'function_validation/commissioning_body/commissioning_bodies_from_doc_body.csv', index=False)\n"
   ]
  }
 ],
 "metadata": {
  "kernelspec": {
   "display_name": "venv",
   "language": "python",
   "name": "python3"
  },
  "language_info": {
   "codemirror_mode": {
    "name": "ipython",
    "version": 3
   },
   "file_extension": ".py",
   "mimetype": "text/x-python",
   "name": "python",
   "nbconvert_exporter": "python",
   "pygments_lexer": "ipython3",
   "version": "3.9.6"
  }
 },
 "nbformat": 4,
 "nbformat_minor": 2
}
